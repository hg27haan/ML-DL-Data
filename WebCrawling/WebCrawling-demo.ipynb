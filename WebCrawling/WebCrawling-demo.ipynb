{
 "cells": [
  {
   "cell_type": "markdown",
   "metadata": {},
   "source": [
    "## Web Crawling"
   ]
  },
  {
   "cell_type": "code",
   "execution_count": 1,
   "metadata": {},
   "outputs": [],
   "source": [
    "from bs4 import BeautifulSoup\n",
    "import urllib.request"
   ]
  },
  {
   "cell_type": "code",
   "execution_count": 2,
   "metadata": {},
   "outputs": [],
   "source": [
    "url =  'https://vnexpress.net'\n",
    "page = urllib.request.urlopen(url)\n",
    "soup = BeautifulSoup(page, 'html.parser')"
   ]
  },
  {
   "cell_type": "code",
   "execution_count": 3,
   "metadata": {},
   "outputs": [
    {
     "name": "stdout",
     "output_type": "stream",
     "text": [
      "Title: Đề xuất viên chức ngành nghệ thuật là công việc nặng nhọc, nguy hiểm - Link: https://vnexpress.net/de-xuat-vien-chuc-nganh-nghe-thuat-la-cong-viec-nang-nhoc-nguy-hiem-4753278.html\n"
     ]
    }
   ],
   "source": [
    "new_feed = soup.find('section', class_='section section_topstory').find('a')\n",
    "title = new_feed.get('title')\n",
    "link = new_feed.get('href')\n",
    "print('Title: {} - Link: {}'.format(title, link))"
   ]
  },
  {
   "cell_type": "code",
   "execution_count": 15,
   "metadata": {},
   "outputs": [
    {
     "name": "stdout",
     "output_type": "stream",
     "text": [
      "Title: Nga sẽ đáp trả thế nào nếu bị Ukraine tập kích bằng vũ khí phương Tây - Link: https://vnexpress.net/de-xuat-vien-chuc-nganh-nghe-thuat-la-cong-viec-nang-nhoc-nguy-hiem-4753278.html\n",
      "Title: Nga sẽ đáp trả thế nào nếu bị Ukraine tập kích bằng vũ khí phương Tây - Link: https://vnexpress.net/de-xuat-vien-chuc-nganh-nghe-thuat-la-cong-viec-nang-nhoc-nguy-hiem-4753278.html\n",
      "Title: Nga sẽ đáp trả thế nào nếu bị Ukraine tập kích bằng vũ khí phương Tây - Link: https://vnexpress.net/de-xuat-vien-chuc-nganh-nghe-thuat-la-cong-viec-nang-nhoc-nguy-hiem-4753278.html\n",
      "Title: None - Link: https://vnexpress.net/de-xuat-vien-chuc-nganh-nghe-thuat-la-cong-viec-nang-nhoc-nguy-hiem-4753278.html\n"
     ]
    }
   ],
   "source": [
    "new_feed = soup.find('article', class_='item-news item-news-common').find_all('a')\n",
    "\n",
    "for new in new_feed:\n",
    "    title = new.get('title') \n",
    "    href = new.get('href')\n",
    "    print('Title: {} - Link: {}'.format(title,link)) "
   ]
  },
  {
   "cell_type": "code",
   "execution_count": null,
   "metadata": {},
   "outputs": [],
   "source": []
  }
 ],
 "metadata": {
  "kernelspec": {
   "display_name": "Python 3",
   "language": "python",
   "name": "python3"
  },
  "language_info": {
   "codemirror_mode": {
    "name": "ipython",
    "version": 3
   },
   "file_extension": ".py",
   "mimetype": "text/x-python",
   "name": "python",
   "nbconvert_exporter": "python",
   "pygments_lexer": "ipython3",
   "version": "3.11.9"
  }
 },
 "nbformat": 4,
 "nbformat_minor": 2
}
