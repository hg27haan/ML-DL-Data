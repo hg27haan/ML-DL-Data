{
 "cells": [
  {
   "cell_type": "markdown",
   "metadata": {},
   "source": [
    "# Chương 1: Bài tập khởi động\n",
    "\n",
    "## 00. Đảo ngược xâu ký tự\n",
    "\n",
    "Hãy đảo ngược xâu ký tự \"stressed\" (theo thứ tự từ cuối xâu đến đầu xâu ký tự)."
   ]
  },
  {
   "cell_type": "code",
   "execution_count": 1,
   "metadata": {},
   "outputs": [
    {
     "name": "stdout",
     "output_type": "stream",
     "text": [
      "desserts\n"
     ]
    }
   ],
   "source": [
    "string = 'stressed'\n",
    "\n",
    "reversed_string = string[::-1]\n",
    "\n",
    "print(reversed_string)"
   ]
  },
  {
   "cell_type": "markdown",
   "metadata": {},
   "source": [
    "## 01. Trích xuất ký tự từ xâu ký tự\n",
    "Từ xâu ký tự \"MPyaktQrBoilk RCSahr\", hãy trích xuất các ký tự ở vị trí 2,4,6,8,10,12,14,16,18,20 và kết hợp theo thứ tự đó để tạo thành 1 xâu ký tự mới (ký tự space cũng được tính, các ký tự được đánh số từ 1)."
   ]
  },
  {
   "cell_type": "code",
   "execution_count": 6,
   "metadata": {},
   "outputs": [
    {
     "name": "stdout",
     "output_type": "stream",
     "text": [
      "['P', 'a', 't', 'r', 'o', 'l', ' ', 'C', 'a', 'r']\n"
     ]
    }
   ],
   "source": [
    "original_string = \"MPyaktQrBoilk RCSahr\"\n",
    "\n",
    "indices = [1, 3, 5, 7, 9, 11, 13, 15, 17, 19]\n",
    "\n",
    "extracted_characters = [original_string[i] for i in indices]\n",
    "\n",
    "print(extracted_characters)"
   ]
  },
  {
   "cell_type": "markdown",
   "metadata": {},
   "source": [
    "## 02. Kết hợp hai xâu ký tự\n",
    "Hãy kết hợp hai xâu ký tự \"Partrol\" và \"Car\" để tạo thành xâu mới \"PatrolCar\"."
   ]
  },
  {
   "cell_type": "code",
   "execution_count": 8,
   "metadata": {},
   "outputs": [
    {
     "name": "stdout",
     "output_type": "stream",
     "text": [
      "PartrolCar\n"
     ]
    }
   ],
   "source": [
    "string1 = 'Partrol'\n",
    "string2 = 'Car'\n",
    "\n",
    "string_result = string1+string2\n",
    "print(string_result)"
   ]
  },
  {
   "cell_type": "markdown",
   "metadata": {},
   "source": [
    "## 03. Tokenize và thống kê số lượng ký tự của mỗi từ\n",
    "1. Tokenize câu sau: \"Now I need a drink, alcoholic of course, after the heavy lectures involving quantum mechanics.\"\n",
    "\n",
    "2. Đưa ra danh sách gồm số ký tự alphabet trong mỗi từ theo thứ tự xuất hiện của từ đó trong câu."
   ]
  },
  {
   "cell_type": "code",
   "execution_count": 14,
   "metadata": {},
   "outputs": [
    {
     "name": "stdout",
     "output_type": "stream",
     "text": [
      "['Now', 'I', 'need', 'a', 'drink', 'alcoholic', 'of', 'course', 'after', 'the', 'heavy', 'lectures', 'involving', 'quantum', 'mechanics']\n",
      "[3, 1, 4, 1, 5, 9, 2, 6, 5, 3, 5, 8, 9, 7, 9]\n"
     ]
    }
   ],
   "source": [
    "import re\n",
    "\n",
    "sentence = 'Now I need a drink, alcoholic of course, after the heavy lectures involving quantum mechanics.'\n",
    "\n",
    "# Loại bỏ dấu câu và chuyển thành danh sách các từ\n",
    "words = re.findall(r'\\b\\w+\\b', sentence) # sử dụng biểu thức chính quy để tìm tất cả các từ trong câu, bỏ qua dấu câu.\n",
    "\n",
    "print(words)\n",
    "\n",
    "# Đếm số ký tự alphabet trong mỗi từ\n",
    "char_count = [len(word) for word in words]\n",
    "\n",
    "print(char_count)"
   ]
  },
  {
   "cell_type": "markdown",
   "metadata": {},
   "source": [
    "## 04. Ký tự thành phần\n",
    "1. Tokenize câu sau: \"Hi He Lied Because Boron Could Not Oxidize Fluorine. New Nations Might Also Sign Peace Security Clause. Arthur King Can.\"\n",
    "\n",
    "2. Lấy ra ký tự đầu tiên của các từ ở vị trí 1, 5, 6, 7, 8, 9, 15, 16, 19; với các từ còn lại lấy ra 2 ký tự đầu tiên. Tạo ra một map từ các xâu ký tự được trích ra tới vị trí của từ trong câu."
   ]
  },
  {
   "cell_type": "code",
   "execution_count": 17,
   "metadata": {},
   "outputs": [
    {
     "name": "stdout",
     "output_type": "stream",
     "text": [
      "['Hi', 'He', 'Lied', 'Because', 'Boron', 'Could', 'Not', 'Oxidize', 'Fluorine', 'New', 'Nations', 'Might', 'Also', 'Sign', 'Peace', 'Security', 'Clause', 'Arthur', 'King', 'Can']\n",
      "{'H': 1, 'He': 2, 'Li': 3, 'Be': 4, 'B': 5, 'C': 6, 'N': 7, 'O': 8, 'F': 9, 'Ne': 10, 'Na': 11, 'Mi': 12, 'Al': 13, 'Si': 14, 'P': 15, 'S': 16, 'Cl': 17, 'Ar': 18, 'K': 19, 'Ca': 20}\n"
     ]
    }
   ],
   "source": [
    "import re\n",
    "\n",
    "sentence = 'Hi He Lied Because Boron Could Not Oxidize Fluorine. New Nations Might Also Sign Peace Security Clause. Arthur King Can.'\n",
    "\n",
    "words = re.findall(r'\\b\\w+\\b', sentence)\n",
    "\n",
    "print(words)\n",
    "\n",
    "position = [1, 5, 6, 7, 8, 9, 15, 16, 19]\n",
    "\n",
    "result = {}\n",
    "for index, word in enumerate(words, start=1):\n",
    "    if index in position:\n",
    "        result[word[:1]] = index\n",
    "    else:\n",
    "        result[word[:2]] = index\n",
    "\n",
    "print(result)\n"
   ]
  },
  {
   "cell_type": "markdown",
   "metadata": {},
   "source": [
    "## 05. n-gram\n",
    "1. Viết hàm sinh ra tất cả các n-gram từ một dãy cho trước (xâu ký tự hoặc danh sách).\n",
    "\n",
    "2. Sử dụng hàm đã viết, sinh ra word bi-gram và character bi-gram từ câu sau: \"I am an NLPer\""
   ]
  },
  {
   "cell_type": "code",
   "execution_count": 21,
   "metadata": {},
   "outputs": [
    {
     "name": "stdout",
     "output_type": "stream",
     "text": [
      "Word bi-gram: [['I', 'am'], ['am', 'an'], ['an', 'NLPer']]\n",
      "Character bi-gram: ['I ', ' a', 'am', 'm ', ' a', 'an', 'n ', ' N', 'NL', 'LP', 'Pe', 'er']\n"
     ]
    }
   ],
   "source": [
    "def n_gram(sequence, n):\n",
    "    return [sequence[i:i+n] for i in range(len(sequence) - n + 1)]\n",
    "\n",
    "sentence = 'I am an NLPer'\n",
    "\n",
    "words = sentence.split()\n",
    "\n",
    "word_bi_gram = n_gram(words, 2)\n",
    "\n",
    "print('Word bi-gram:',word_bi_gram)\n",
    "\n",
    "char_bi_gram = n_gram(sentence, 2)\n",
    "\n",
    "print('Character bi-gram:', char_bi_gram)"
   ]
  },
  {
   "cell_type": "markdown",
   "metadata": {},
   "source": [
    "## 06. Tập hợp\n",
    "1. Sinh ra tập X và Y tương ứng là tập các character bi-gram từ hai xâu ký tự \"paraparaparadise\" và \"paragraph\".\n",
    "\n",
    "2. Sinh ra các tập hợp union, intersection và difference của X và Y\n",
    "\n",
    "3. Kiểm tra xem bi-gram 'se' có thuộc tập X (Y) hay không?"
   ]
  },
  {
   "cell_type": "code",
   "execution_count": 27,
   "metadata": {},
   "outputs": [
    {
     "name": "stdout",
     "output_type": "stream",
     "text": [
      "Character bi-gram của từ {paraparaparadise}: {'ar', 'se', 'ra', 'ad', 'is', 'pa', 'di', 'pr', 'ap'}\n",
      "Character bi-gram của từ {paragraph}: {'ar', 'ph', 'ag', 'ra', 'gr', 'pa', 'ap'}\n",
      "Union: {'ar', 'ph', 'ag', 'se', 'ra', 'ad', 'gr', 'is', 'pa', 'di', 'pr', 'ap'}\n",
      "Intersection: {'ar', 'pa', 'ra', 'ap'}\n",
      "Difference: {'se', 'ad', 'di', 'pr', 'is'}\n",
      "Bi gram {se} có thuộc tập X: True\n",
      "Bi gram {se} có thuộc tập Y: False\n"
     ]
    }
   ],
   "source": [
    "def n_gram(sequence, n):\n",
    "    return [sequence[i:i+n] for i in range(len(sequence) - n + 1)]\n",
    "\n",
    "string1 = 'parapraparadise'\n",
    "string2 = 'paragraph'\n",
    "\n",
    "char_bi_gram_string1 = n_gram(string1, 2)\n",
    "char_bi_gram_string2 = n_gram(string2, 2)\n",
    "\n",
    "set1 = set(char_bi_gram_string1)\n",
    "set2 = set(char_bi_gram_string2)\n",
    "\n",
    "print('Character bi-gram của từ {paraparaparadise}:', set1)\n",
    "print('Character bi-gram của từ {paragraph}:', set2)\n",
    "\n",
    "union_set = set1 | set2\n",
    "intersection_set = set1 & set2\n",
    "difference_set = set1 - set2\n",
    "\n",
    "print('Union:',union_set)\n",
    "print('Intersection:',intersection_set)\n",
    "print('Difference:',difference_set)\n",
    "\n",
    "bi_gram_to_check = 'se'\n",
    "in_set1 = bi_gram_to_check in set1\n",
    "in_set2 = bi_gram_to_check in set2\n",
    "\n",
    "print('Bi gram {se} có thuộc tập X:', in_set1)\n",
    "print('Bi gram {se} có thuộc tập Y:', in_set2)"
   ]
  },
  {
   "cell_type": "markdown",
   "metadata": {},
   "source": [
    "## 07. Sinh ra câu từ template\n",
    "Viết hàm số nhận vào 3 biến x, y, z và trả về xâu ký tự \"y vào lúc x giờ là z\" Sinh ra kết quả với các giá trị x, y, z sau đây x=\"12\" y=\"Nhiệt độ\" z=22.4"
   ]
  },
  {
   "cell_type": "code",
   "execution_count": 28,
   "metadata": {},
   "outputs": [
    {
     "name": "stdout",
     "output_type": "stream",
     "text": [
      "Nhiệt độ vào lúc 12 giờ là 22.4\n"
     ]
    }
   ],
   "source": [
    "def generate_sentece(x,y,z):\n",
    "    return f'{y} vào lúc {x} giờ là {z}'\n",
    "\n",
    "x = '12'\n",
    "y = 'Nhiệt độ'\n",
    "z = '22.4'\n",
    "\n",
    "result = generate_sentece(x,y,z)\n",
    "print(result)"
   ]
  },
  {
   "cell_type": "markdown",
   "metadata": {},
   "source": [
    "## 08. Xâu mật mã\n",
    "Từ các ký tự của một xâu cho trước, cài đặt hàm có tên cipher để mã hoá xâu như sau:\n",
    "* Nếu là ký tự tiếng Anh ở dạng thường (lower-case characters) thì chuyển thành ký tự có mã là (219 - mã ký tự).\n",
    "* Các ký tự khác giữ nguyên.  \n",
    "\n",
    "Sử dụng hàm đã viết để mã hoá và giải mã các xâu ký tự tiếng Anh."
   ]
  },
  {
   "cell_type": "code",
   "execution_count": null,
   "metadata": {},
   "outputs": [],
   "source": []
  }
 ],
 "metadata": {
  "kernelspec": {
   "display_name": "Python 3",
   "language": "python",
   "name": "python3"
  },
  "language_info": {
   "codemirror_mode": {
    "name": "ipython",
    "version": 3
   },
   "file_extension": ".py",
   "mimetype": "text/x-python",
   "name": "python",
   "nbconvert_exporter": "python",
   "pygments_lexer": "ipython3",
   "version": "3.11.9"
  }
 },
 "nbformat": 4,
 "nbformat_minor": 2
}
