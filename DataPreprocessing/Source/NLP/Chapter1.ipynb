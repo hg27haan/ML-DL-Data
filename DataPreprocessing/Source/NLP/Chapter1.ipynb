{
 "cells": [
  {
   "cell_type": "markdown",
   "metadata": {},
   "source": [
    "# Chương 1: Bài tập khởi động\n",
    "\n",
    "## 00. Đảo ngược xâu ký tự\n",
    "\n",
    "Hãy đảo ngược xâu ký tự \"stressed\" (theo thứ tự từ cuối xâu đến đầu xâu ký tự)."
   ]
  },
  {
   "cell_type": "code",
   "execution_count": 1,
   "metadata": {},
   "outputs": [
    {
     "name": "stdout",
     "output_type": "stream",
     "text": [
      "desserts\n"
     ]
    }
   ],
   "source": [
    "string = 'stressed'\n",
    "\n",
    "reversed_string = string[::-1]\n",
    "\n",
    "print(reversed_string)"
   ]
  },
  {
   "cell_type": "markdown",
   "metadata": {},
   "source": [
    "## 01. Trích xuất ký tự từ xâu ký tự\n",
    "Từ xâu ký tự \"MPyaktQrBoilk RCSahr\", hãy trích xuất các ký tự ở vị trí 2,4,6,8,10,12,14,16,18,20 và kết hợp theo thứ tự đó để tạo thành 1 xâu ký tự mới (ký tự space cũng được tính, các ký tự được đánh số từ 1)."
   ]
  },
  {
   "cell_type": "code",
   "execution_count": 6,
   "metadata": {},
   "outputs": [
    {
     "name": "stdout",
     "output_type": "stream",
     "text": [
      "['P', 'a', 't', 'r', 'o', 'l', ' ', 'C', 'a', 'r']\n"
     ]
    }
   ],
   "source": [
    "original_string = \"MPyaktQrBoilk RCSahr\"\n",
    "\n",
    "indices = [1, 3, 5, 7, 9, 11, 13, 15, 17, 19]\n",
    "\n",
    "extracted_characters = [original_string[i] for i in indices]\n",
    "\n",
    "print(extracted_characters)"
   ]
  },
  {
   "cell_type": "markdown",
   "metadata": {},
   "source": [
    "## 02. Kết hợp hai xâu ký tự\n",
    "Hãy kết hợp hai xâu ký tự \"Partrol\" và \"Car\" để tạo thành xâu mới \"PatrolCar\"."
   ]
  },
  {
   "cell_type": "code",
   "execution_count": 8,
   "metadata": {},
   "outputs": [
    {
     "name": "stdout",
     "output_type": "stream",
     "text": [
      "PartrolCar\n"
     ]
    }
   ],
   "source": [
    "string1 = 'Partrol'\n",
    "string2 = 'Car'\n",
    "\n",
    "string_result = string1+string2\n",
    "print(string_result)"
   ]
  },
  {
   "cell_type": "markdown",
   "metadata": {},
   "source": [
    "## 03. Tokenize và thống kê số lượng ký tự của mỗi từ\n",
    "1. Tokenize câu sau: \"Now I need a drink, alcoholic of course, after the heavy lectures involving quantum mechanics.\"\n",
    "\n",
    "2. Đưa ra danh sách gồm số ký tự alphabet trong mỗi từ theo thứ tự xuất hiện của từ đó trong câu."
   ]
  },
  {
   "cell_type": "code",
   "execution_count": 14,
   "metadata": {},
   "outputs": [
    {
     "name": "stdout",
     "output_type": "stream",
     "text": [
      "['Now', 'I', 'need', 'a', 'drink', 'alcoholic', 'of', 'course', 'after', 'the', 'heavy', 'lectures', 'involving', 'quantum', 'mechanics']\n",
      "[3, 1, 4, 1, 5, 9, 2, 6, 5, 3, 5, 8, 9, 7, 9]\n"
     ]
    }
   ],
   "source": [
    "import re\n",
    "\n",
    "sentence = 'Now I need a drink, alcoholic of course, after the heavy lectures involving quantum mechanics.'\n",
    "\n",
    "# Loại bỏ dấu câu và chuyển thành danh sách các từ\n",
    "words = re.findall(r'\\b\\w+\\b', sentence) # sử dụng biểu thức chính quy để tìm tất cả các từ trong câu, bỏ qua dấu câu.\n",
    "\n",
    "print(words)\n",
    "\n",
    "# Đếm số ký tự alphabet trong mỗi từ\n",
    "char_count = [len(word) for word in words]\n",
    "\n",
    "print(char_count)"
   ]
  },
  {
   "cell_type": "markdown",
   "metadata": {},
   "source": [
    "## 04. Ký tự thành phần\n",
    "1. Tokenize câu sau: \"Hi He Lied Because Boron Could Not Oxidize Fluorine. New Nations Might Also Sign Peace Security Clause. Arthur King Can.\"\n",
    "\n",
    "2. Lấy ra ký tự đầu tiên của các từ ở vị trí 1, 5, 6, 7, 8, 9, 15, 16, 19; với các từ còn lại lấy ra 2 ký tự đầu tiên. Tạo ra một map từ các xâu ký tự được trích ra tới vị trí của từ trong câu."
   ]
  },
  {
   "cell_type": "code",
   "execution_count": 17,
   "metadata": {},
   "outputs": [
    {
     "name": "stdout",
     "output_type": "stream",
     "text": [
      "['Hi', 'He', 'Lied', 'Because', 'Boron', 'Could', 'Not', 'Oxidize', 'Fluorine', 'New', 'Nations', 'Might', 'Also', 'Sign', 'Peace', 'Security', 'Clause', 'Arthur', 'King', 'Can']\n",
      "{'H': 1, 'He': 2, 'Li': 3, 'Be': 4, 'B': 5, 'C': 6, 'N': 7, 'O': 8, 'F': 9, 'Ne': 10, 'Na': 11, 'Mi': 12, 'Al': 13, 'Si': 14, 'P': 15, 'S': 16, 'Cl': 17, 'Ar': 18, 'K': 19, 'Ca': 20}\n"
     ]
    }
   ],
   "source": [
    "import re\n",
    "\n",
    "sentence = 'Hi He Lied Because Boron Could Not Oxidize Fluorine. New Nations Might Also Sign Peace Security Clause. Arthur King Can.'\n",
    "\n",
    "words = re.findall(r'\\b\\w+\\b', sentence)\n",
    "\n",
    "print(words)\n",
    "\n",
    "position = [1, 5, 6, 7, 8, 9, 15, 16, 19]\n",
    "\n",
    "result = {}\n",
    "for index, word in enumerate(words, start=1):\n",
    "    if index in position:\n",
    "        result[word[:1]] = index\n",
    "    else:\n",
    "        result[word[:2]] = index\n",
    "\n",
    "print(result)\n"
   ]
  },
  {
   "cell_type": "markdown",
   "metadata": {},
   "source": [
    "## 05. n-gram\n",
    "Viết hàm sinh ra tất cả các n-gram từ một dãy cho trước (xâu ký tự hoặc danh sách).\n",
    "\n",
    "Sử dụng hàm đã viết, sinh ra word bi-gram và character bi-gram từ câu sau: \"I am an NLPer\""
   ]
  },
  {
   "cell_type": "code",
   "execution_count": null,
   "metadata": {},
   "outputs": [],
   "source": []
  }
 ],
 "metadata": {
  "kernelspec": {
   "display_name": "Python 3",
   "language": "python",
   "name": "python3"
  },
  "language_info": {
   "codemirror_mode": {
    "name": "ipython",
    "version": 3
   },
   "file_extension": ".py",
   "mimetype": "text/x-python",
   "name": "python",
   "nbconvert_exporter": "python",
   "pygments_lexer": "ipython3",
   "version": "3.11.9"
  }
 },
 "nbformat": 4,
 "nbformat_minor": 2
}
